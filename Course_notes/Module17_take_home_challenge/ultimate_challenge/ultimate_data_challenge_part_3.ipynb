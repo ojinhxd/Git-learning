{
 "cells": [
  {
   "cell_type": "code",
   "execution_count": 3,
   "metadata": {},
   "outputs": [],
   "source": [
    "# import pandas and json\n",
    "import pandas as pd\n",
    "import json\n",
    "import numpy as np\n",
    "import matplotlib.pyplot as plt\n",
    "from datetime import datetime"
   ]
  },
  {
   "cell_type": "code",
   "execution_count": 4,
   "metadata": {},
   "outputs": [],
   "source": [
    "# read json file into DataFrame\n",
    "#df = pd.read_json('./ultimate_data_challenge.json', orient='records')\n",
    "# turn out that pd.read_json error out due to NaN values in json file"
   ]
  },
  {
   "cell_type": "code",
   "execution_count": 5,
   "metadata": {},
   "outputs": [
    {
     "name": "stdout",
     "output_type": "stream",
     "text": [
      "<class 'list'>\n"
     ]
    },
    {
     "data": {
      "text/html": [
       "<div>\n",
       "<style scoped>\n",
       "    .dataframe tbody tr th:only-of-type {\n",
       "        vertical-align: middle;\n",
       "    }\n",
       "\n",
       "    .dataframe tbody tr th {\n",
       "        vertical-align: top;\n",
       "    }\n",
       "\n",
       "    .dataframe thead th {\n",
       "        text-align: right;\n",
       "    }\n",
       "</style>\n",
       "<table border=\"1\" class=\"dataframe\">\n",
       "  <thead>\n",
       "    <tr style=\"text-align: right;\">\n",
       "      <th></th>\n",
       "      <th>avg_dist</th>\n",
       "      <th>avg_rating_by_driver</th>\n",
       "      <th>avg_rating_of_driver</th>\n",
       "      <th>avg_surge</th>\n",
       "      <th>city</th>\n",
       "      <th>last_trip_date</th>\n",
       "      <th>phone</th>\n",
       "      <th>signup_date</th>\n",
       "      <th>surge_pct</th>\n",
       "      <th>trips_in_first_30_days</th>\n",
       "      <th>ultimate_black_user</th>\n",
       "      <th>weekday_pct</th>\n",
       "    </tr>\n",
       "  </thead>\n",
       "  <tbody>\n",
       "    <tr>\n",
       "      <th>0</th>\n",
       "      <td>3.67</td>\n",
       "      <td>5.0</td>\n",
       "      <td>4.7</td>\n",
       "      <td>1.10</td>\n",
       "      <td>King's Landing</td>\n",
       "      <td>2014-06-17</td>\n",
       "      <td>iPhone</td>\n",
       "      <td>2014-01-25</td>\n",
       "      <td>15.4</td>\n",
       "      <td>4</td>\n",
       "      <td>True</td>\n",
       "      <td>46.2</td>\n",
       "    </tr>\n",
       "    <tr>\n",
       "      <th>1</th>\n",
       "      <td>8.26</td>\n",
       "      <td>5.0</td>\n",
       "      <td>5.0</td>\n",
       "      <td>1.00</td>\n",
       "      <td>Astapor</td>\n",
       "      <td>2014-05-05</td>\n",
       "      <td>Android</td>\n",
       "      <td>2014-01-29</td>\n",
       "      <td>0.0</td>\n",
       "      <td>0</td>\n",
       "      <td>False</td>\n",
       "      <td>50.0</td>\n",
       "    </tr>\n",
       "    <tr>\n",
       "      <th>2</th>\n",
       "      <td>0.77</td>\n",
       "      <td>5.0</td>\n",
       "      <td>4.3</td>\n",
       "      <td>1.00</td>\n",
       "      <td>Astapor</td>\n",
       "      <td>2014-01-07</td>\n",
       "      <td>iPhone</td>\n",
       "      <td>2014-01-06</td>\n",
       "      <td>0.0</td>\n",
       "      <td>3</td>\n",
       "      <td>False</td>\n",
       "      <td>100.0</td>\n",
       "    </tr>\n",
       "    <tr>\n",
       "      <th>3</th>\n",
       "      <td>2.36</td>\n",
       "      <td>4.9</td>\n",
       "      <td>4.6</td>\n",
       "      <td>1.14</td>\n",
       "      <td>King's Landing</td>\n",
       "      <td>2014-06-29</td>\n",
       "      <td>iPhone</td>\n",
       "      <td>2014-01-10</td>\n",
       "      <td>20.0</td>\n",
       "      <td>9</td>\n",
       "      <td>True</td>\n",
       "      <td>80.0</td>\n",
       "    </tr>\n",
       "    <tr>\n",
       "      <th>4</th>\n",
       "      <td>3.13</td>\n",
       "      <td>4.9</td>\n",
       "      <td>4.4</td>\n",
       "      <td>1.19</td>\n",
       "      <td>Winterfell</td>\n",
       "      <td>2014-03-15</td>\n",
       "      <td>Android</td>\n",
       "      <td>2014-01-27</td>\n",
       "      <td>11.8</td>\n",
       "      <td>14</td>\n",
       "      <td>False</td>\n",
       "      <td>82.4</td>\n",
       "    </tr>\n",
       "    <tr>\n",
       "      <th>5</th>\n",
       "      <td>10.56</td>\n",
       "      <td>5.0</td>\n",
       "      <td>3.5</td>\n",
       "      <td>1.00</td>\n",
       "      <td>Winterfell</td>\n",
       "      <td>2014-06-06</td>\n",
       "      <td>iPhone</td>\n",
       "      <td>2014-01-09</td>\n",
       "      <td>0.0</td>\n",
       "      <td>2</td>\n",
       "      <td>True</td>\n",
       "      <td>100.0</td>\n",
       "    </tr>\n",
       "    <tr>\n",
       "      <th>6</th>\n",
       "      <td>3.95</td>\n",
       "      <td>4.0</td>\n",
       "      <td>NaN</td>\n",
       "      <td>1.00</td>\n",
       "      <td>Astapor</td>\n",
       "      <td>2014-01-25</td>\n",
       "      <td>Android</td>\n",
       "      <td>2014-01-24</td>\n",
       "      <td>0.0</td>\n",
       "      <td>1</td>\n",
       "      <td>False</td>\n",
       "      <td>100.0</td>\n",
       "    </tr>\n",
       "    <tr>\n",
       "      <th>7</th>\n",
       "      <td>2.04</td>\n",
       "      <td>5.0</td>\n",
       "      <td>5.0</td>\n",
       "      <td>1.00</td>\n",
       "      <td>Winterfell</td>\n",
       "      <td>2014-01-29</td>\n",
       "      <td>iPhone</td>\n",
       "      <td>2014-01-28</td>\n",
       "      <td>0.0</td>\n",
       "      <td>2</td>\n",
       "      <td>False</td>\n",
       "      <td>100.0</td>\n",
       "    </tr>\n",
       "    <tr>\n",
       "      <th>8</th>\n",
       "      <td>4.36</td>\n",
       "      <td>5.0</td>\n",
       "      <td>4.5</td>\n",
       "      <td>1.00</td>\n",
       "      <td>Winterfell</td>\n",
       "      <td>2014-02-01</td>\n",
       "      <td>Android</td>\n",
       "      <td>2014-01-21</td>\n",
       "      <td>0.0</td>\n",
       "      <td>2</td>\n",
       "      <td>False</td>\n",
       "      <td>100.0</td>\n",
       "    </tr>\n",
       "    <tr>\n",
       "      <th>9</th>\n",
       "      <td>2.37</td>\n",
       "      <td>5.0</td>\n",
       "      <td>NaN</td>\n",
       "      <td>1.00</td>\n",
       "      <td>Winterfell</td>\n",
       "      <td>2014-01-05</td>\n",
       "      <td>Android</td>\n",
       "      <td>2014-01-03</td>\n",
       "      <td>0.0</td>\n",
       "      <td>1</td>\n",
       "      <td>False</td>\n",
       "      <td>0.0</td>\n",
       "    </tr>\n",
       "  </tbody>\n",
       "</table>\n",
       "</div>"
      ],
      "text/plain": [
       "   avg_dist  avg_rating_by_driver  avg_rating_of_driver  avg_surge  \\\n",
       "0      3.67                   5.0                   4.7       1.10   \n",
       "1      8.26                   5.0                   5.0       1.00   \n",
       "2      0.77                   5.0                   4.3       1.00   \n",
       "3      2.36                   4.9                   4.6       1.14   \n",
       "4      3.13                   4.9                   4.4       1.19   \n",
       "5     10.56                   5.0                   3.5       1.00   \n",
       "6      3.95                   4.0                   NaN       1.00   \n",
       "7      2.04                   5.0                   5.0       1.00   \n",
       "8      4.36                   5.0                   4.5       1.00   \n",
       "9      2.37                   5.0                   NaN       1.00   \n",
       "\n",
       "             city last_trip_date    phone signup_date  surge_pct  \\\n",
       "0  King's Landing     2014-06-17   iPhone  2014-01-25       15.4   \n",
       "1         Astapor     2014-05-05  Android  2014-01-29        0.0   \n",
       "2         Astapor     2014-01-07   iPhone  2014-01-06        0.0   \n",
       "3  King's Landing     2014-06-29   iPhone  2014-01-10       20.0   \n",
       "4      Winterfell     2014-03-15  Android  2014-01-27       11.8   \n",
       "5      Winterfell     2014-06-06   iPhone  2014-01-09        0.0   \n",
       "6         Astapor     2014-01-25  Android  2014-01-24        0.0   \n",
       "7      Winterfell     2014-01-29   iPhone  2014-01-28        0.0   \n",
       "8      Winterfell     2014-02-01  Android  2014-01-21        0.0   \n",
       "9      Winterfell     2014-01-05  Android  2014-01-03        0.0   \n",
       "\n",
       "   trips_in_first_30_days  ultimate_black_user  weekday_pct  \n",
       "0                       4                 True         46.2  \n",
       "1                       0                False         50.0  \n",
       "2                       3                False        100.0  \n",
       "3                       9                 True         80.0  \n",
       "4                      14                False         82.4  \n",
       "5                       2                 True        100.0  \n",
       "6                       1                False        100.0  \n",
       "7                       2                False        100.0  \n",
       "8                       2                False        100.0  \n",
       "9                       1                False          0.0  "
      ]
     },
     "execution_count": 5,
     "metadata": {},
     "output_type": "execute_result"
    }
   ],
   "source": [
    "# has to read json file in as below due to NaN values in file\n",
    "text = open('./ultimate_data_challenge.json','r')\n",
    "x = text.read()\n",
    "y = json.loads(x)\n",
    "print(type(y))\n",
    "df = pd.DataFrame(y)\n",
    "df.head(10)"
   ]
  },
  {
   "cell_type": "code",
   "execution_count": 6,
   "metadata": {},
   "outputs": [
    {
     "name": "stdout",
     "output_type": "stream",
     "text": [
      "Index(['avg_dist', 'avg_rating_by_driver', 'avg_rating_of_driver', 'avg_surge',\n",
      "       'city', 'last_trip_date', 'phone', 'signup_date', 'surge_pct',\n",
      "       'trips_in_first_30_days', 'ultimate_black_user', 'weekday_pct'],\n",
      "      dtype='object')\n",
      "<class 'pandas.core.frame.DataFrame'>\n",
      "RangeIndex: 50000 entries, 0 to 49999\n",
      "Data columns (total 12 columns):\n",
      "avg_dist                  50000 non-null float64\n",
      "avg_rating_by_driver      49799 non-null float64\n",
      "avg_rating_of_driver      41878 non-null float64\n",
      "avg_surge                 50000 non-null float64\n",
      "city                      50000 non-null object\n",
      "last_trip_date            50000 non-null datetime64[ns]\n",
      "phone                     49604 non-null object\n",
      "signup_date               50000 non-null datetime64[ns]\n",
      "surge_pct                 50000 non-null float64\n",
      "trips_in_first_30_days    50000 non-null int64\n",
      "ultimate_black_user       50000 non-null bool\n",
      "weekday_pct               50000 non-null float64\n",
      "dtypes: bool(1), datetime64[ns](2), float64(6), int64(1), object(2)\n",
      "memory usage: 4.2+ MB\n",
      "None\n"
     ]
    }
   ],
   "source": [
    "# convert dates to datetime objects\n",
    "df.last_trip_date = pd.to_datetime(df.last_trip_date)\n",
    "df.signup_date = pd.to_datetime(df.signup_date)\n",
    "print(df.columns)\n",
    "print(df.info())"
   ]
  },
  {
   "cell_type": "code",
   "execution_count": 7,
   "metadata": {},
   "outputs": [
    {
     "name": "stdout",
     "output_type": "stream",
     "text": [
      "5.0    28508\n",
      "4.8     4537\n",
      "4.7     3330\n",
      "4.9     3094\n",
      "4.5     2424\n",
      "4.6     2078\n",
      "4.0     1914\n",
      "4.3     1018\n",
      "4.4      860\n",
      "3.0      602\n",
      "4.2      342\n",
      "NaN      201\n",
      "3.5      199\n",
      "3.7      195\n",
      "1.0      181\n",
      "2.0      126\n",
      "4.1      125\n",
      "3.8      111\n",
      "3.3       47\n",
      "3.9       41\n",
      "2.5       31\n",
      "3.6       19\n",
      "3.4        5\n",
      "1.5        4\n",
      "2.8        3\n",
      "2.7        2\n",
      "3.2        2\n",
      "2.3        1\n",
      "Name: avg_rating_by_driver, dtype: int64\n",
      "5.0    20771\n",
      "NaN     8122\n",
      "4.0     4193\n",
      "4.5     2498\n",
      "4.8     2430\n",
      "4.7     1945\n",
      "4.9     1771\n",
      "4.3     1487\n",
      "4.6     1143\n",
      "3.0     1003\n",
      "4.4      829\n",
      "4.2      601\n",
      "3.5      488\n",
      "3.8      428\n",
      "4.1      398\n",
      "3.7      364\n",
      "1.0      256\n",
      "3.9      255\n",
      "2.0      209\n",
      "3.3      201\n",
      "3.6      172\n",
      "3.4      108\n",
      "2.5       94\n",
      "3.2       53\n",
      "2.7       47\n",
      "3.1       39\n",
      "2.8       28\n",
      "2.3       22\n",
      "2.9       13\n",
      "2.6       12\n",
      "2.1        6\n",
      "1.5        4\n",
      "2.4        3\n",
      "1.8        2\n",
      "1.7        2\n",
      "2.2        1\n",
      "1.9        1\n",
      "1.6        1\n",
      "Name: avg_rating_of_driver, dtype: int64\n",
      "Winterfell        23336\n",
      "Astapor           16534\n",
      "King's Landing    10130\n",
      "Name: city, dtype: int64\n",
      "iPhone     34582\n",
      "Android    15022\n",
      "NaN          396\n",
      "Name: phone, dtype: int64\n",
      "False    31146\n",
      "True     18854\n",
      "Name: ultimate_black_user, dtype: int64\n"
     ]
    }
   ],
   "source": [
    "# value_counts don't show obvious outliers\n",
    "print(df.avg_rating_by_driver.value_counts(dropna=False))\n",
    "print(df.avg_rating_of_driver.value_counts(dropna=False))\n",
    "print(df.city.value_counts(dropna=False))\n",
    "print(df.phone.value_counts(dropna=False))\n",
    "print(df.ultimate_black_user.value_counts(dropna=False))"
   ]
  },
  {
   "cell_type": "code",
   "execution_count": 8,
   "metadata": {},
   "outputs": [
    {
     "data": {
      "text/plain": [
       "<matplotlib.axes._subplots.AxesSubplot at 0x2d290f2dac8>"
      ]
     },
     "execution_count": 8,
     "metadata": {},
     "output_type": "execute_result"
    },
    {
     "data": {
      "image/png": "[encoded data removed]",
      "text/plain": [
       "<Figure size 1296x288 with 1 Axes>"
      ]
     },
     "metadata": {
      "needs_background": "light"
     },
     "output_type": "display_data"
    }
   ],
   "source": [
    "# box plots on numerical variables don't show outliers\n",
    "fig, ax = plt.subplots()\n",
    "fig.set_size_inches(18, 4)\n",
    "df.boxplot()"
   ]
  },
  {
   "cell_type": "code",
   "execution_count": 9,
   "metadata": {},
   "outputs": [
    {
     "name": "stdout",
     "output_type": "stream",
     "text": [
      "2014-01-01 00:00:00\n",
      "2014-07-01 00:00:00\n",
      "2014-01-01 00:00:00\n",
      "2014-01-31 00:00:00\n"
     ]
    }
   ],
   "source": [
    "# check last_trip_date and signup_date ranges\n",
    "print(df.last_trip_date.min())\n",
    "print(df.last_trip_date.max())\n",
    "print(df.signup_date.min())\n",
    "print(df.signup_date.max())"
   ]
  },
  {
   "cell_type": "code",
   "execution_count": 10,
   "metadata": {
    "scrolled": true
   },
   "outputs": [
    {
     "name": "stdout",
     "output_type": "stream",
     "text": [
      "0    31196\n",
      "1    18804\n",
      "Name: retained, dtype: int64\n"
     ]
    }
   ],
   "source": [
    "# generate label for 'retained' drivers, using last_trip_date >= 2014-06-01 as cutoff date\n",
    "df['retained'] = (df.last_trip_date >= '2014-06-01').astype(int)\n",
    "#print(df.head())\n",
    "print(df.retained.value_counts(dropna=False))"
   ]
  },
  {
   "cell_type": "code",
   "execution_count": 11,
   "metadata": {},
   "outputs": [],
   "source": [
    "def crosstab_output(index_col, col = df.retained):\n",
    "    \"\"\" To generate a crosstab table containing normalized fraction for Positive class, and total frequency \"\"\"\n",
    "    df_crosstab = pd.DataFrame()\n",
    "    df_crosstab['normalized'] = pd.crosstab(index_col, col, normalize='index', margins=True).iloc[:, 1]\n",
    "    df_crosstab['total_frequency'] = pd.crosstab(index_col, col, margins=True).iloc[:, 2]\n",
    "    \n",
    "    return df_crosstab"
   ]
  },
  {
   "cell_type": "code",
   "execution_count": 12,
   "metadata": {},
   "outputs": [
    {
     "data": {
      "text/html": [
       "<div>\n",
       "<style scoped>\n",
       "    .dataframe tbody tr th:only-of-type {\n",
       "        vertical-align: middle;\n",
       "    }\n",
       "\n",
       "    .dataframe tbody tr th {\n",
       "        vertical-align: top;\n",
       "    }\n",
       "\n",
       "    .dataframe thead th {\n",
       "        text-align: right;\n",
       "    }\n",
       "</style>\n",
       "<table border=\"1\" class=\"dataframe\">\n",
       "  <thead>\n",
       "    <tr style=\"text-align: right;\">\n",
       "      <th></th>\n",
       "      <th>normalized</th>\n",
       "      <th>total_frequency</th>\n",
       "    </tr>\n",
       "    <tr>\n",
       "      <th>ultimate_black_user</th>\n",
       "      <th></th>\n",
       "      <th></th>\n",
       "    </tr>\n",
       "  </thead>\n",
       "  <tbody>\n",
       "    <tr>\n",
       "      <th>False</th>\n",
       "      <td>0.298818</td>\n",
       "      <td>31146</td>\n",
       "    </tr>\n",
       "    <tr>\n",
       "      <th>True</th>\n",
       "      <td>0.503713</td>\n",
       "      <td>18854</td>\n",
       "    </tr>\n",
       "    <tr>\n",
       "      <th>All</th>\n",
       "      <td>0.376080</td>\n",
       "      <td>50000</td>\n",
       "    </tr>\n",
       "  </tbody>\n",
       "</table>\n",
       "</div>"
      ],
      "text/plain": [
       "                     normalized  total_frequency\n",
       "ultimate_black_user                             \n",
       "False                  0.298818            31146\n",
       "True                   0.503713            18854\n",
       "All                    0.376080            50000"
      ]
     },
     "execution_count": 12,
     "metadata": {},
     "output_type": "execute_result"
    }
   ],
   "source": [
    "crosstab_output(df.ultimate_black_user)"
   ]
  },
  {
   "cell_type": "code",
   "execution_count": 13,
   "metadata": {},
   "outputs": [
    {
     "data": {
      "text/html": [
       "<div>\n",
       "<style scoped>\n",
       "    .dataframe tbody tr th:only-of-type {\n",
       "        vertical-align: middle;\n",
       "    }\n",
       "\n",
       "    .dataframe tbody tr th {\n",
       "        vertical-align: top;\n",
       "    }\n",
       "\n",
       "    .dataframe thead th {\n",
       "        text-align: right;\n",
       "    }\n",
       "</style>\n",
       "<table border=\"1\" class=\"dataframe\">\n",
       "  <thead>\n",
       "    <tr style=\"text-align: right;\">\n",
       "      <th></th>\n",
       "      <th>normalized</th>\n",
       "      <th>total_frequency</th>\n",
       "    </tr>\n",
       "    <tr>\n",
       "      <th>phone</th>\n",
       "      <th></th>\n",
       "      <th></th>\n",
       "    </tr>\n",
       "  </thead>\n",
       "  <tbody>\n",
       "    <tr>\n",
       "      <th>Android</th>\n",
       "      <td>0.209426</td>\n",
       "      <td>15022</td>\n",
       "    </tr>\n",
       "    <tr>\n",
       "      <th>iPhone</th>\n",
       "      <td>0.448933</td>\n",
       "      <td>34582</td>\n",
       "    </tr>\n",
       "    <tr>\n",
       "      <th>All</th>\n",
       "      <td>0.376401</td>\n",
       "      <td>49604</td>\n",
       "    </tr>\n",
       "  </tbody>\n",
       "</table>\n",
       "</div>"
      ],
      "text/plain": [
       "         normalized  total_frequency\n",
       "phone                               \n",
       "Android    0.209426            15022\n",
       "iPhone     0.448933            34582\n",
       "All        0.376401            49604"
      ]
     },
     "execution_count": 13,
     "metadata": {},
     "output_type": "execute_result"
    }
   ],
   "source": [
    "crosstab_output(df.phone)"
   ]
  },
  {
   "cell_type": "code",
   "execution_count": 14,
   "metadata": {},
   "outputs": [
    {
     "data": {
      "text/html": [
       "<div>\n",
       "<style scoped>\n",
       "    .dataframe tbody tr th:only-of-type {\n",
       "        vertical-align: middle;\n",
       "    }\n",
       "\n",
       "    .dataframe tbody tr th {\n",
       "        vertical-align: top;\n",
       "    }\n",
       "\n",
       "    .dataframe thead th {\n",
       "        text-align: right;\n",
       "    }\n",
       "</style>\n",
       "<table border=\"1\" class=\"dataframe\">\n",
       "  <thead>\n",
       "    <tr style=\"text-align: right;\">\n",
       "      <th></th>\n",
       "      <th>normalized</th>\n",
       "      <th>total_frequency</th>\n",
       "    </tr>\n",
       "    <tr>\n",
       "      <th>city</th>\n",
       "      <th></th>\n",
       "      <th></th>\n",
       "    </tr>\n",
       "  </thead>\n",
       "  <tbody>\n",
       "    <tr>\n",
       "      <th>Astapor</th>\n",
       "      <td>0.255715</td>\n",
       "      <td>16534</td>\n",
       "    </tr>\n",
       "    <tr>\n",
       "      <th>King's Landing</th>\n",
       "      <td>0.628134</td>\n",
       "      <td>10130</td>\n",
       "    </tr>\n",
       "    <tr>\n",
       "      <th>Winterfell</th>\n",
       "      <td>0.351945</td>\n",
       "      <td>23336</td>\n",
       "    </tr>\n",
       "    <tr>\n",
       "      <th>All</th>\n",
       "      <td>0.376080</td>\n",
       "      <td>50000</td>\n",
       "    </tr>\n",
       "  </tbody>\n",
       "</table>\n",
       "</div>"
      ],
      "text/plain": [
       "                normalized  total_frequency\n",
       "city                                       \n",
       "Astapor           0.255715            16534\n",
       "King's Landing    0.628134            10130\n",
       "Winterfell        0.351945            23336\n",
       "All               0.376080            50000"
      ]
     },
     "execution_count": 14,
     "metadata": {},
     "output_type": "execute_result"
    }
   ],
   "source": [
    "crosstab_output(df.city)"
   ]
  },
  {
   "cell_type": "code",
   "execution_count": 47,
   "metadata": {},
   "outputs": [],
   "source": [
    "import seaborn as sns\n",
    "def plot_predictor_against_label(df, col_label, cols_predictor):\n",
    "    \"\"\" To plot a list of predictor columns against label column \"\"\"\n",
    "    n_plots = len(cols_predictor)\n",
    "    fig, ax = plt.subplots(n_plots, 1)\n",
    "    fig.set_size_inches(8, 6*n_plots)\n",
    "    for i in range(n_plots):\n",
    "        plt.subplot(n_plots, 1, i+1)\n",
    "        #print(i)\n",
    "        sns.boxplot(data=df, y=cols_predictor[i], x=col_label)\n",
    "        #plt.xlabel(col_label)\n",
    "        #plt.ylabel(cols_predictor[i])"
   ]
  },
  {
   "cell_type": "code",
   "execution_count": 49,
   "metadata": {},
   "outputs": [
    {
     "data": {
      "image/png": "[encoded data removed]",
      "text/plain": [
       "<Figure size 576x3024 with 7 Axes>"
      ]
     },
     "metadata": {
      "needs_background": "light"
     },
     "output_type": "display_data"
    }
   ],
   "source": [
    "label = 'retained'\n",
    "predictors = ['avg_dist', 'avg_rating_by_driver', 'avg_rating_of_driver', 'avg_surge',\n",
    "       'surge_pct', 'trips_in_first_30_days', 'weekday_pct']\n",
    "plot_predictor_against_label(df, label, predictors)\n"
   ]
  },
  {
   "cell_type": "code",
   "execution_count": 90,
   "metadata": {
    "scrolled": true
   },
   "outputs": [
    {
     "name": "stdout",
     "output_type": "stream",
     "text": [
      "5.0\n",
      "<class 'pandas.core.frame.DataFrame'>\n",
      "RangeIndex: 50000 entries, 0 to 49999\n",
      "Data columns (total 13 columns):\n",
      "avg_dist                  50000 non-null float64\n",
      "avg_rating_by_driver      50000 non-null float64\n",
      "avg_rating_of_driver      50000 non-null float64\n",
      "avg_surge                 50000 non-null float64\n",
      "city                      50000 non-null object\n",
      "last_trip_date            50000 non-null datetime64[ns]\n",
      "phone                     50000 non-null object\n",
      "signup_date               50000 non-null datetime64[ns]\n",
      "surge_pct                 50000 non-null float64\n",
      "trips_in_first_30_days    50000 non-null int64\n",
      "ultimate_black_user       50000 non-null bool\n",
      "weekday_pct               50000 non-null float64\n",
      "retained                  50000 non-null int32\n",
      "dtypes: bool(1), datetime64[ns](2), float64(6), int32(1), int64(1), object(2)\n",
      "memory usage: 4.4+ MB\n",
      "None\n"
     ]
    }
   ],
   "source": [
    "# impute missing values.\n",
    "# impute avg_rating_by_driver and df.avg_rating_of_driver by their respective median ratings\n",
    "# impute phone by 'Unknown'\n",
    "df.avg_rating_by_driver = df.avg_rating_by_driver.fillna(df.avg_rating_by_driver.median())\n",
    "df.avg_rating_of_driver = df.avg_rating_of_driver.fillna(df.avg_rating_of_driver.median())\n",
    "df.phone = df.phone.fillna('Unknown')\n",
    "print(df.info())"
   ]
  },
  {
   "cell_type": "code",
   "execution_count": 91,
   "metadata": {},
   "outputs": [
    {
     "data": {
      "text/html": [
       "<div>\n",
       "<style scoped>\n",
       "    .dataframe tbody tr th:only-of-type {\n",
       "        vertical-align: middle;\n",
       "    }\n",
       "\n",
       "    .dataframe tbody tr th {\n",
       "        vertical-align: top;\n",
       "    }\n",
       "\n",
       "    .dataframe thead th {\n",
       "        text-align: right;\n",
       "    }\n",
       "</style>\n",
       "<table border=\"1\" class=\"dataframe\">\n",
       "  <thead>\n",
       "    <tr style=\"text-align: right;\">\n",
       "      <th></th>\n",
       "      <th>normalized</th>\n",
       "      <th>total_frequency</th>\n",
       "    </tr>\n",
       "    <tr>\n",
       "      <th>phone</th>\n",
       "      <th></th>\n",
       "      <th></th>\n",
       "    </tr>\n",
       "  </thead>\n",
       "  <tbody>\n",
       "    <tr>\n",
       "      <th>Android</th>\n",
       "      <td>0.209426</td>\n",
       "      <td>15022</td>\n",
       "    </tr>\n",
       "    <tr>\n",
       "      <th>Unknown</th>\n",
       "      <td>0.335859</td>\n",
       "      <td>396</td>\n",
       "    </tr>\n",
       "    <tr>\n",
       "      <th>iPhone</th>\n",
       "      <td>0.448933</td>\n",
       "      <td>34582</td>\n",
       "    </tr>\n",
       "    <tr>\n",
       "      <th>All</th>\n",
       "      <td>0.376080</td>\n",
       "      <td>50000</td>\n",
       "    </tr>\n",
       "  </tbody>\n",
       "</table>\n",
       "</div>"
      ],
      "text/plain": [
       "         normalized  total_frequency\n",
       "phone                               \n",
       "Android    0.209426            15022\n",
       "Unknown    0.335859              396\n",
       "iPhone     0.448933            34582\n",
       "All        0.376080            50000"
      ]
     },
     "execution_count": 91,
     "metadata": {},
     "output_type": "execute_result"
    }
   ],
   "source": [
    "crosstab_output(df.phone)"
   ]
  },
  {
   "cell_type": "code",
   "execution_count": 93,
   "metadata": {},
   "outputs": [],
   "source": [
    "from time import time\n",
    "import numpy as np\n",
    "import matplotlib.pyplot as plt\n",
    "from scipy.stats import randint as sp_randint\n",
    "from sklearn.model_selection import train_test_split, RandomizedSearchCV\n",
    "from sklearn.ensemble import RandomForestClassifier\n",
    "from sklearn.metrics import roc_auc_score, roc_curve, confusion_matrix\n",
    "from sklearn.externals import joblib     # for saving the model for future use"
   ]
  },
  {
   "cell_type": "code",
   "execution_count": 94,
   "metadata": {},
   "outputs": [],
   "source": [
    "y = df.retained\n",
    "X = df[['avg_dist', 'avg_rating_by_driver', 'avg_rating_of_driver', 'avg_surge', 'city', 'phone', 'surge_pct', 'trips_in_first_30_days', 'ultimate_black_user', 'weekday_pct']]"
   ]
  },
  {
   "cell_type": "code",
   "execution_count": 97,
   "metadata": {},
   "outputs": [],
   "source": [
    "# handle categorical variables\n",
    "X = pd.get_dummies(X)\n",
    "X.ultimate_black_user = X.ultimate_black_user.astype(int)"
   ]
  },
  {
   "cell_type": "code",
   "execution_count": 112,
   "metadata": {},
   "outputs": [
    {
     "name": "stdout",
     "output_type": "stream",
     "text": [
      "Index(['avg_dist', 'avg_rating_by_driver', 'avg_rating_of_driver', 'avg_surge',\n",
      "       'surge_pct', 'trips_in_first_30_days', 'ultimate_black_user',\n",
      "       'weekday_pct', 'city_Astapor', 'city_King's Landing', 'city_Winterfell',\n",
      "       'phone_Android', 'phone_Unknown', 'phone_iPhone'],\n",
      "      dtype='object')\n",
      "   avg_dist  avg_rating_by_driver  avg_rating_of_driver  avg_surge  surge_pct  \\\n",
      "0      3.67                   5.0                   4.7       1.10       15.4   \n",
      "1      8.26                   5.0                   5.0       1.00        0.0   \n",
      "2      0.77                   5.0                   4.3       1.00        0.0   \n",
      "3      2.36                   4.9                   4.6       1.14       20.0   \n",
      "4      3.13                   4.9                   4.4       1.19       11.8   \n",
      "\n",
      "   trips_in_first_30_days  ultimate_black_user  weekday_pct  city_Astapor  \\\n",
      "0                       4                    1         46.2             0   \n",
      "1                       0                    0         50.0             1   \n",
      "2                       3                    0        100.0             1   \n",
      "3                       9                    1         80.0             0   \n",
      "4                      14                    0         82.4             0   \n",
      "\n",
      "   city_King's Landing  city_Winterfell  phone_Android  phone_Unknown  \\\n",
      "0                    1                0              0              0   \n",
      "1                    0                0              1              0   \n",
      "2                    0                0              0              0   \n",
      "3                    1                0              0              0   \n",
      "4                    0                1              1              0   \n",
      "\n",
      "   phone_iPhone  \n",
      "0             1  \n",
      "1             0  \n",
      "2             1  \n",
      "3             1  \n",
      "4             0  \n"
     ]
    }
   ],
   "source": [
    "print(X.columns)\n",
    "print(X.head())"
   ]
  },
  {
   "cell_type": "code",
   "execution_count": 99,
   "metadata": {},
   "outputs": [],
   "source": [
    "# split 20% for test data\n",
    "X_train, X_test, y_train, y_test = train_test_split(X, y, test_size=0.2, random_state = 19)"
   ]
  },
  {
   "cell_type": "code",
   "execution_count": 100,
   "metadata": {},
   "outputs": [],
   "source": [
    "# Utility function to report best scores\n",
    "def report(results, n_top=3):\n",
    "    for i in range(1, n_top + 1):\n",
    "        candidates = np.flatnonzero(results['rank_test_score'] == i)\n",
    "        for candidate in candidates:\n",
    "            print(\"Model with rank: {0}\".format(i))\n",
    "            print(\"ROC_AUC: {0:.3f} (std: {1:.3f})\".format(\n",
    "                  results['mean_test_score'][candidate],\n",
    "                  results['std_test_score'][candidate]))\n",
    "            print(\"Parameters: {0}\".format(results['params'][candidate]))\n",
    "            print(\"\")"
   ]
  },
  {
   "cell_type": "code",
   "execution_count": 101,
   "metadata": {},
   "outputs": [],
   "source": [
    "# create instances of random forest classifier\n",
    "rf_clf = RandomForestClassifier()"
   ]
  },
  {
   "cell_type": "code",
   "execution_count": 102,
   "metadata": {},
   "outputs": [],
   "source": [
    "# define parameter distribution for random forest\n",
    "param_dist_rf = {\"n_estimators\": sp_randint(100, 501),\n",
    "                 \"max_depth\": sp_randint(1, 20),\n",
    "                 \"max_features\": sp_randint(1, 15),\n",
    "                 \"min_samples_split\": sp_randint(2, 41)\n",
    "                }"
   ]
  },
  {
   "cell_type": "code",
   "execution_count": 103,
   "metadata": {},
   "outputs": [
    {
     "name": "stdout",
     "output_type": "stream",
     "text": [
      "Decision Tree RandomizedSearchCV took 5020.02 seconds for 300 candidates parameter settings.\n",
      "Model with rank: 1\n",
      "ROC_AUC: 0.851 (std: 0.004)\n",
      "Parameters: {'max_depth': 13, 'max_features': 3, 'min_samples_split': 31, 'n_estimators': 167}\n",
      "\n",
      "Model with rank: 2\n",
      "ROC_AUC: 0.851 (std: 0.004)\n",
      "Parameters: {'max_depth': 11, 'max_features': 6, 'min_samples_split': 31, 'n_estimators': 325}\n",
      "\n",
      "Model with rank: 3\n",
      "ROC_AUC: 0.851 (std: 0.004)\n",
      "Parameters: {'max_depth': 11, 'max_features': 6, 'min_samples_split': 24, 'n_estimators': 222}\n",
      "\n"
     ]
    }
   ],
   "source": [
    "n_iter_search_rf = 300\n",
    "random_search_rf = RandomizedSearchCV(rf_clf, param_distributions=param_dist_rf,\n",
    "                                   n_iter=n_iter_search_rf, cv=5, iid=False, scoring='roc_auc', n_jobs=-1)\n",
    "\n",
    "start = time()\n",
    "random_search_rf.fit(X_train, y_train)\n",
    "print(\"Decision Tree RandomizedSearchCV took %.2f seconds for %d candidates\"\n",
    "      \" parameter settings.\" % ((time() - start), n_iter_search_rf))\n",
    "report(random_search_rf.cv_results_)"
   ]
  },
  {
   "cell_type": "code",
   "execution_count": 104,
   "metadata": {},
   "outputs": [
    {
     "name": "stdout",
     "output_type": "stream",
     "text": [
      "Random Forest ROC_AUC score on test data:  0.8561575797042482\n"
     ]
    }
   ],
   "source": [
    "# calculate roc_auc on setaside test data using best Random Forest model\n",
    "auc_rf = roc_auc_score(y_test, random_search_rf.best_estimator_.predict_proba(X_test)[:,1])\n",
    "print('Random Forest ROC_AUC score on test data: ', auc_rf)"
   ]
  },
  {
   "cell_type": "code",
   "execution_count": 109,
   "metadata": {},
   "outputs": [
    {
     "data": {
      "text/plain": [
       "['finalized_random_forest_model_for_Ultimate.sav']"
      ]
     },
     "execution_count": 109,
     "metadata": {},
     "output_type": "execute_result"
    }
   ],
   "source": [
    "# save models to files\n",
    "rf_filename = 'finalized_random_forest_model_for_Ultimate.sav'\n",
    "joblib.dump(random_search_rf, rf_filename)"
   ]
  },
  {
   "cell_type": "code",
   "execution_count": 105,
   "metadata": {},
   "outputs": [
    {
     "name": "stdout",
     "output_type": "stream",
     "text": [
      "[0.         0.         0.         ... 0.99808123 0.99840102 1.        ]\n",
      "[0.00000000e+00 2.66951415e-04 2.37586759e-02 ... 1.00000000e+00\n",
      " 1.00000000e+00 1.00000000e+00]\n",
      "[1.98701209 0.98701209 0.96361828 ... 0.01155701 0.01132218 0.00743276]\n"
     ]
    }
   ],
   "source": [
    "fpr, tpr, thresholds = roc_curve_test = roc_curve(y_test, random_search_rf.best_estimator_.predict_proba(X_test)[:,1])\n",
    "print(fpr)\n",
    "print(tpr)\n",
    "print(thresholds)"
   ]
  },
  {
   "cell_type": "code",
   "execution_count": 118,
   "metadata": {},
   "outputs": [
    {
     "data": {
      "text/plain": [
       "Text(0.5, 1.0, 'ROC curve on test data')"
      ]
     },
     "execution_count": 118,
     "metadata": {},
     "output_type": "execute_result"
    },
    {
     "data": {
      "image/png": "[encoded data removed]",
      "text/plain": [
       "<Figure size 432x288 with 1 Axes>"
      ]
     },
     "metadata": {
      "needs_background": "light"
     },
     "output_type": "display_data"
    }
   ],
   "source": [
    "plt.plot(fpr, tpr)\n",
    "plt.xlabel('fpr')\n",
    "plt.ylabel('tpr')\n",
    "plt.title('ROC curve on test data')"
   ]
  },
  {
   "cell_type": "code",
   "execution_count": 111,
   "metadata": {},
   "outputs": [
    {
     "data": {
      "text/plain": [
       "array([[5413,  841],\n",
       "       [1261, 2485]], dtype=int64)"
      ]
     },
     "execution_count": 111,
     "metadata": {},
     "output_type": "execute_result"
    }
   ],
   "source": [
    "confusion_matrix(y_test, random_search_rf.best_estimator_.predict(X_test))"
   ]
  },
  {
   "cell_type": "code",
   "execution_count": 108,
   "metadata": {},
   "outputs": [
    {
     "data": {
      "text/plain": [
       "Text(0.5, 1.0, 'Random Forest Feature Importance Plot')"
      ]
     },
     "execution_count": 108,
     "metadata": {},
     "output_type": "execute_result"
    },
    {
     "data": {
      "image/png": "[encoded data removed]",
      "text/plain": [
       "<Figure size 432x288 with 1 Axes>"
      ]
     },
     "metadata": {
      "needs_background": "light"
     },
     "output_type": "display_data"
    }
   ],
   "source": [
    "# for Random Forest, plot most important features\n",
    "import seaborn as sns\n",
    "\n",
    "rf_feature_importance = dict(zip(X.columns, random_search_rf.best_estimator_.feature_importances_))\n",
    "rf_sorted_feature_importance = sorted(rf_feature_importance.items(), key=lambda kv: kv[1], reverse=True)\n",
    "x_plot_rf = list(zip(*rf_sorted_feature_importance))[0]\n",
    "y_plot_rf = list(zip(*rf_sorted_feature_importance))[1]\n",
    "sns.barplot(y=list(x_plot_rf), x=list(y_plot_rf), orient='h')\n",
    "plt.xlabel('Feature Importance')\n",
    "plt.title('Random Forest Feature Importance Plot')"
   ]
  },
  {
   "cell_type": "code",
   "execution_count": null,
   "metadata": {},
   "outputs": [],
   "source": []
  }
 ],
 "metadata": {
  "kernelspec": {
   "display_name": "Python 3",
   "language": "python",
   "name": "python3"
  },
  "language_info": {
   "codemirror_mode": {
    "name": "ipython",
    "version": 3
   },
   "file_extension": ".py",
   "mimetype": "text/x-python",
   "name": "python",
   "nbconvert_exporter": "python",
   "pygments_lexer": "ipython3",
   "version": "3.7.3"
  }
 },
 "nbformat": 4,
 "nbformat_minor": 2
}
